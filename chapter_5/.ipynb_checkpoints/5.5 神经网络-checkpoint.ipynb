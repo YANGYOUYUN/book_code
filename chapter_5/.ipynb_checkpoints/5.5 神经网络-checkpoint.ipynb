{
 "cells": [
  {
   "cell_type": "markdown",
   "metadata": {
    "toc": true
   },
   "source": [
    "<h1>5.5 神经网络<span class=\"tocSkip\"></span></h1>\n",
    "<div class=\"toc\"><ul class=\"toc-item\"><li><span><a href=\"#5.5.5-神经网络的实现\" data-toc-modified-id=\"5.5.5-神经网络的实现-1\">5.5.5 神经网络的实现</a></span></li></ul></div>"
   ]
  },
  {
   "cell_type": "markdown",
   "metadata": {},
   "source": [
    "# 5.5.5 神经网络的实现"
   ]
  },
  {
   "cell_type": "code",
   "execution_count": 1,
   "metadata": {},
   "outputs": [
    {
     "name": "stdout",
     "output_type": "stream",
     "text": [
      "datasets:  (60000, 28, 28) (60000,) 0 255\n",
      "迭代器获得为： (128, 784) (128, 10)\n",
      "Train for 469 steps, validate for 79 steps\n",
      "Epoch 1/5\n",
      "469/469 [==============================] - 3s 7ms/step - loss: 0.2322 - accuracy: 0.9292\n",
      "Epoch 2/5\n",
      "469/469 [==============================] - 4s 9ms/step - loss: 0.1208 - accuracy: 0.9629 - val_loss: 0.1142 - val_accuracy: 0.9657\n",
      "Epoch 3/5\n",
      "469/469 [==============================] - 4s 9ms/step - loss: 0.0988 - accuracy: 0.9695\n",
      "Epoch 4/5\n",
      "469/469 [==============================] - 4s 9ms/step - loss: 0.0874 - accuracy: 0.9736 - val_loss: 0.1069 - val_accuracy: 0.9696\n",
      "Epoch 5/5\n",
      "469/469 [==============================] - 4s 8ms/step - loss: 0.0800 - accuracy: 0.9762\n",
      "79/79 [==============================] - 1s 10ms/step - loss: 0.1373 - accuracy: 0.9653\n",
      "tf.Tensor(\n",
      "[7 2 1 0 4 1 4 9 5 9 0 6 9 0 1 3 9 7 3 4 9 6 6 5 4 0 7 4 0 1 3 1 3 4 7 2 7\n",
      " 1 2 1 1 7 4 2 3 5 1 2 4 4 6 3 5 5 6 0 4 1 9 5 7 8 9 3 7 4 6 4 3 0 7 0 2 9\n",
      " 1 7 3 2 9 7 7 6 2 7 8 4 7 3 6 1 3 6 9 3 1 4 1 7 6 9 6 0 5 4 9 9 2 1 9 4 8\n",
      " 7 3 9 7 4 4 4 9 2 5 4 7 6 4 9 0 5], shape=(128,), dtype=int64)\n",
      "tf.Tensor(\n",
      "[7 2 1 0 4 1 4 9 5 9 0 6 9 0 1 5 9 7 3 4 9 6 6 5 4 0 7 4 0 1 3 1 3 4 7 2 7\n",
      " 1 2 1 1 7 4 2 3 5 1 2 4 4 6 3 5 5 6 0 4 1 9 5 7 8 9 3 7 4 6 4 3 0 7 0 2 9\n",
      " 1 7 3 2 9 7 7 6 2 7 8 4 7 3 6 1 3 6 9 3 1 4 1 7 6 9 6 0 5 4 9 9 2 1 9 4 8\n",
      " 7 3 9 7 4 4 4 9 2 5 4 7 6 7 9 0 5], shape=(128,), dtype=int64)\n"
     ]
    }
   ],
   "source": [
    "import tensorflow as tf\n",
    "from tensorflow.keras import datasets, layers, optimizers, Sequential, metrics\n",
    "from tensorflow import keras\n",
    "import os\n",
    "\n",
    "os.environ['TF_CPP_MIN_LOG_LEVEL'] = '2'\n",
    "\n",
    "def preprocess(x, y):\n",
    "    \"\"\"\n",
    "    x is a simple image, not a batch\n",
    "    :param x:\n",
    "    :param y:\n",
    "    :return:\n",
    "    \"\"\"\n",
    "    x = tf.cast(x, dtype=tf.float32) / 255.\n",
    "    x = tf.reshape(x, [28*28])\n",
    "    y = tf.cast(y, dtype=tf.int32)\n",
    "    y = tf.one_hot(y, depth=10)\n",
    "    return x, y\n",
    "\n",
    "batchsz = 128\n",
    "(x, y), (x_val, y_val) = datasets.mnist.load_data()\n",
    "print(\"datasets: \", x.shape, y.shape, x.min(), x.max())\n",
    "\n",
    "\n",
    "train_db = tf.data.Dataset.from_tensor_slices((x, y))\n",
    "train_db = train_db.map(preprocess).shuffle(60000).batch(batchsz)\n",
    "test_db = tf.data.Dataset.from_tensor_slices((x_val, y_val))\n",
    "test_db = test_db.map(preprocess).batch(batchsz)\n",
    "\n",
    "iteration = iter(train_db)\n",
    "sample = next(iteration)\n",
    "print(\"迭代器获得为：\", sample[0].shape, sample[1].shape)\n",
    "\n",
    "\n",
    "network = Sequential([\n",
    "      layers.Dense(128, activation='relu'),\n",
    "      layers.Dense(64, activation='relu'),\n",
    "      layers.Dense(10)\n",
    "])\n",
    "\n",
    "network.compile(optimizer=optimizers.Adam(lr=0.01),\n",
    "                loss=tf.losses.CategoricalCrossentropy(from_logits=True),\n",
    "                metrics=['accuracy']\n",
    ")\n",
    "\n",
    "network.fit(train_db, epochs=5, validation_data=test_db,\n",
    "            validation_freq=2)\n",
    "\n",
    "network.evaluate(test_db)\n",
    "\n",
    "sample = next(iter(test_db))\n",
    "x = sample[0]\n",
    "y = sample[1] # one-hot\n",
    "pred = network.predict(x) # [b, 10]\n",
    "# convert back to number\n",
    "y = tf.argmax(y, axis=1)  # [b, 1]\n",
    "pred = tf.argmax(pred, axis=1)\n",
    "\n",
    "print(pred)\n",
    "print(y)"
   ]
  },
  {
   "cell_type": "code",
   "execution_count": null,
   "metadata": {},
   "outputs": [],
   "source": []
  },
  {
   "cell_type": "code",
   "execution_count": null,
   "metadata": {},
   "outputs": [],
   "source": []
  }
 ],
 "metadata": {
  "kernelspec": {
   "display_name": "Python 3",
   "language": "python",
   "name": "python3"
  },
  "language_info": {
   "codemirror_mode": {
    "name": "ipython",
    "version": 3
   },
   "file_extension": ".py",
   "mimetype": "text/x-python",
   "name": "python",
   "nbconvert_exporter": "python",
   "pygments_lexer": "ipython3",
   "version": "3.7.4"
  },
  "toc": {
   "base_numbering": 1,
   "nav_menu": {},
   "number_sections": false,
   "sideBar": true,
   "skip_h1_title": false,
   "title_cell": "5.5 神经网络",
   "title_sidebar": "Contents",
   "toc_cell": true,
   "toc_position": {},
   "toc_section_display": true,
   "toc_window_display": true
  }
 },
 "nbformat": 4,
 "nbformat_minor": 2
}
