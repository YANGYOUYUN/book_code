{
 "cells": [
  {
   "cell_type": "markdown",
   "metadata": {
    "toc": true
   },
   "source": [
    "<h1>10.3 随机森林筛选特征<span class=\"tocSkip\"></span></h1>\n",
    "<div class=\"toc\"><ul class=\"toc-item\"></ul></div>"
   ]
  },
  {
   "cell_type": "code",
   "execution_count": 56,
   "metadata": {},
   "outputs": [],
   "source": [
    "import numpy as np\n",
    "import pandas as pd\n",
    "from sklearn.model_selection import train_test_split          #数据拆分\n",
    "from sklearn.ensemble import RandomForestClassifier            #随机森林\n",
    "import warnings\n",
    "warnings.simplefilter('ignore')"
   ]
  },
  {
   "cell_type": "code",
   "execution_count": 58,
   "metadata": {},
   "outputs": [],
   "source": [
    "train_test = pd.read_csv('../data/train.csv')\n",
    "# train_test.head()"
   ]
  },
  {
   "cell_type": "code",
   "execution_count": 59,
   "metadata": {},
   "outputs": [],
   "source": [
    "# 特征工程\n",
    "train_test['Embarked'].value_counts()\n",
    "train_test['Pclass'].value_counts()\n",
    "train_test['Embarked'].fillna('S',inplace=True)\n",
    "\n",
    "#票价与pclass和Embarked有关\n",
    "train_test.groupby(['Pclass','Embarked']).Fare.mean()\n",
    "train_test['Fare'].fillna(14.435422,inplace=True)\n",
    "\n",
    "# 缺失值填充\n",
    "train_test['Age'].fillna(train_test['Age'].median(),inplace=True)"
   ]
  },
  {
   "cell_type": "code",
   "execution_count": 61,
   "metadata": {},
   "outputs": [
    {
     "name": "stdout",
     "output_type": "stream",
     "text": [
      "['Mr' 'Mrs' 'Miss' 'Master' 'Don' 'Rev' 'Dr' 'Mme' 'Ms' 'Major' 'Lady'\n",
      " 'Sir' 'Mlle' 'Col' 'Capt' 'the Countess' 'Jonkheer']\n",
      "\n",
      "\n",
      "['Mr' 'Mrs' 'Miss' 'Master' 'Royalty' 'Officer']\n",
      "\n",
      "\n"
     ]
    }
   ],
   "source": [
    "#从名字中提取出称呼\n",
    "train_test['Name_new'] = train_test['Name'].str.extract('.+,(.+)',expand=False).str.extract('^(.+?)\\.',expand=False).str.strip()\n",
    "print(train_test['Name_new'].unique())\n",
    "print('\\n')\n",
    "\n",
    "#将姓名分类处理()\n",
    "train_test['Name_new'].replace(['Capt', 'Col', 'Major', 'Dr', 'Rev'], 'Officer' , inplace = True)\n",
    "train_test['Name_new'].replace(['Jonkheer', 'Don', 'Sir', 'the Countess', 'Dona', 'Lady'], 'Royalty' , inplace = True)\n",
    "train_test['Name_new'].replace(['Mme', 'Ms', 'Mrs'], 'Mrs',inplace=True)\n",
    "train_test['Name_new'].replace(['Mlle', 'Miss'], 'Miss',inplace=True)\n",
    "train_test['Name_new'].replace(['Mr'], 'Mr' , inplace = True)\n",
    "train_test['Name_new'].replace(['Master'], 'Master' , inplace = True)\n",
    "print(train_test['Name_new'].unique())\n",
    "print('\\n')\n",
    "\n",
    "# 分类变量数值化\n",
    "train_test['Name_new'] = train_test['Name_new'].map({'Mr':0,'Mrs':1,'Miss':2,'Master':3,'Royalty':4,'Officer':5}).astype(int)\n",
    "train_test['Sex'] = train_test['Sex'].map({'female':1,'male':0}).astype(int)\n",
    "train_test['Embarked'] = train_test['Embarked'].map({'S':0,'C':1,'Q':2}).astype(int)\n",
    "\n",
    "\n",
    "#将年龄划分阶段\n",
    "train_test['Age']=pd.cut(train_test['Age'],bins=[0,18,30,40,50,100],labels=[1,2,3,4,5])\n",
    "train_test['Age'] = train_test['Age'].astype('float64')\n",
    "\n",
    "# 剔除不需要的特征\n",
    "train_test.drop(['PassengerId','Ticket','Name','Cabin'],axis=1,inplace=True)\n"
   ]
  },
  {
   "cell_type": "code",
   "execution_count": 62,
   "metadata": {},
   "outputs": [],
   "source": [
    "X = train_test\n",
    "X_train,X_test, y_train, y_test = train_test_split(X.ix[:,2:], X['Survived'], test_size = 0.3)    "
   ]
  },
  {
   "cell_type": "code",
   "execution_count": 64,
   "metadata": {},
   "outputs": [
    {
     "name": "stdout",
     "output_type": "stream",
     "text": [
      " 1) Pclass          0.399425\n",
      " 2) Sex             0.259306\n",
      " 3) Age             0.110613\n",
      " 4) SibSp           0.071950\n",
      " 5) Parch           0.069087\n"
     ]
    }
   ],
   "source": [
    "feat_labels=X.ix[:,1:].columns\n",
    "forest=RandomForestClassifier(n_estimators=10,n_jobs=-1,random_state=1)  \n",
    "forest.fit(X_train,y_train)\n",
    "importances=forest.feature_importances_\n",
    "indices=np.argsort(importances)[::-1]  #排序取反\n",
    "for f in range(5):\n",
    "    print (\"%2d) %-*s %f\" % (f+1,15,feat_labels[f],importances[indices[f]]) ) #输出前5个重要特征"
   ]
  }
 ],
 "metadata": {
  "kernelspec": {
   "display_name": "Python 3",
   "language": "python",
   "name": "python3"
  },
  "language_info": {
   "codemirror_mode": {
    "name": "ipython",
    "version": 3
   },
   "file_extension": ".py",
   "mimetype": "text/x-python",
   "name": "python",
   "nbconvert_exporter": "python",
   "pygments_lexer": "ipython3",
   "version": "3.7.4"
  },
  "toc": {
   "base_numbering": 1,
   "nav_menu": {},
   "number_sections": false,
   "sideBar": true,
   "skip_h1_title": false,
   "title_cell": "10.3 随机森林筛选特征",
   "title_sidebar": "Contents",
   "toc_cell": true,
   "toc_position": {},
   "toc_section_display": true,
   "toc_window_display": true
  }
 },
 "nbformat": 4,
 "nbformat_minor": 2
}
