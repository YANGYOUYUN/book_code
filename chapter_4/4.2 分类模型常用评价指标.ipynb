{
 "cells": [
  {
   "cell_type": "markdown",
   "metadata": {
    "toc": true
   },
   "source": [
    "<h1>4.2 分类模型常用评价指标<span class=\"tocSkip\"></span></h1>\n",
    "<div class=\"toc\"><ul class=\"toc-item\"><li><span><a href=\"#4.2.1-混淆矩阵\" data-toc-modified-id=\"4.2.1-混淆矩阵-1\">4.2.1 混淆矩阵</a></span></li><li><span><a href=\"#4.2.2-ROC曲线\" data-toc-modified-id=\"4.2.2-ROC曲线-2\">4.2.2 ROC曲线</a></span></li><li><span><a href=\"#4.2.3-AUC\" data-toc-modified-id=\"4.2.3-AUC-3\">4.2.3 AUC</a></span></li><li><span><a href=\"#4.2.4-KS指标\" data-toc-modified-id=\"4.2.4-KS指标-4\">4.2.4 KS指标</a></span></li><li><span><a href=\"#4.2.5-Lift提升度\" data-toc-modified-id=\"4.2.5-Lift提升度-5\">4.2.5 Lift提升度</a></span></li></ul></div>"
   ]
  },
  {
   "cell_type": "code",
   "execution_count": 1,
   "metadata": {},
   "outputs": [],
   "source": [
    "import numpy as np \n",
    "import pandas as pd  \n",
    "from  sklearn.metrics import confusion_matrix,roc_curve\n",
    "from sklearn.datasets import load_iris\n",
    "from sklearn.linear_model import LogisticRegression\n",
    "from sklearn.ensemble import RandomForestClassifier"
   ]
  },
  {
   "cell_type": "code",
   "execution_count": 2,
   "metadata": {},
   "outputs": [],
   "source": [
    "iris = load_iris()"
   ]
  },
  {
   "cell_type": "code",
   "execution_count": 3,
   "metadata": {},
   "outputs": [],
   "source": [
    "df = pd.DataFrame(iris.data[0:40],columns=['X1','X2','X3','X4']) \n",
    "df1 = pd.DataFrame(iris.data[50:90],columns=['X1','X2','X3','X4']) \n",
    "df2 = pd.DataFrame(iris.data[100:120],columns=['X1','X2','X3','X4']) \n",
    "df = pd.concat([df,df1,df2],axis=0)"
   ]
  },
  {
   "cell_type": "code",
   "execution_count": 4,
   "metadata": {},
   "outputs": [
    {
     "data": {
      "text/plain": [
       "RandomForestClassifier(random_state=12)"
      ]
     },
     "execution_count": 4,
     "metadata": {},
     "output_type": "execute_result"
    }
   ],
   "source": [
    "df['label'] = [0] * 50 + [1] * 50 \n",
    "X= df[['X1','X2']]\n",
    "y = df['label']\n",
    "model = LogisticRegression()\n",
    "model.fit(X,y)\n",
    "model2 = RandomForestClassifier(random_state=12)\n",
    "model2.fit(X,y)"
   ]
  },
  {
   "cell_type": "markdown",
   "metadata": {},
   "source": [
    "#  4.2.1 混淆矩阵"
   ]
  },
  {
   "cell_type": "code",
   "execution_count": 5,
   "metadata": {},
   "outputs": [
    {
     "data": {
      "text/plain": [
       "array([[42,  6],\n",
       "       [ 8, 44]], dtype=int64)"
      ]
     },
     "execution_count": 5,
     "metadata": {},
     "output_type": "execute_result"
    }
   ],
   "source": [
    "predictions = model.predict_proba(X)[:,1]\n",
    "predictions = model.predict(X)\n",
    "confusion_matrix(predictions,df['label'])"
   ]
  },
  {
   "cell_type": "code",
   "execution_count": 6,
   "metadata": {},
   "outputs": [
    {
     "data": {
      "text/plain": [
       "array([[49,  1],\n",
       "       [ 1, 49]], dtype=int64)"
      ]
     },
     "execution_count": 6,
     "metadata": {},
     "output_type": "execute_result"
    }
   ],
   "source": [
    "predictions2 = model2.predict_proba(X)[:,1]\n",
    "predictions2 = model2.predict(X)\n",
    "confusion_matrix(predictions2,df['label'])"
   ]
  },
  {
   "cell_type": "code",
   "execution_count": 7,
   "metadata": {},
   "outputs": [],
   "source": [
    "predictions = model.predict_proba(X)[:,1]\n",
    "df['prediction'] = predictions\n",
    "predictions2 = model2.predict_proba(X)[:,1]\n",
    "df['prediction2'] = predictions2"
   ]
  },
  {
   "cell_type": "code",
   "execution_count": 8,
   "metadata": {
    "run_control": {
     "marked": true
    }
   },
   "outputs": [
    {
     "name": "stdout",
     "output_type": "stream",
     "text": [
      "[[39 11]\n",
      " [ 0 50]]\n",
      "FPR: 0.22\n",
      "TPR: 1.0\n"
     ]
    }
   ],
   "source": [
    "df['pred'] = df['prediction'] >= 0.2\n",
    "tb = confusion_matrix(df['label'],df['pred'])\n",
    "print(tb)\n",
    "# TP\tFP\n",
    "# FN\tTN\n",
    "# FPR = FP / (FP + TN)\n",
    "# TPR = TP / (TP + FN)\n",
    "FPR = tb[0,1]/(tb[0,1] + tb[0,0])\n",
    "print('FPR:',FPR)\n",
    "TPR =  tb[1,1]/(tb[1,0] + tb[1,1]) \n",
    "print('TPR:',TPR)"
   ]
  },
  {
   "cell_type": "markdown",
   "metadata": {},
   "source": [
    "# 4.2.2 ROC曲线"
   ]
  },
  {
   "cell_type": "markdown",
   "metadata": {},
   "source": [
    "# 4.2.3 AUC"
   ]
  },
  {
   "cell_type": "code",
   "execution_count": 9,
   "metadata": {},
   "outputs": [],
   "source": [
    "import matplotlib.pyplot as plt\n",
    "from sklearn import metrics\n",
    "from sklearn.metrics import roc_curve, auc\n",
    "###计算roc和auc\n",
    "def auc_curve(y,prob):\n",
    "#y真实prob预测\n",
    "    fpr,tpr,threshold = roc_curve(y,prob) ###计算真阳性率和假阳性率\n",
    "    roc_auc = auc(fpr,tpr) ###计算auc的值\n",
    "\n",
    "    plt.figure()\n",
    "    lw = 2\n",
    "    plt.figure(figsize=(10,10))\n",
    "    plt.plot(fpr, tpr, color='darkorange',linestyle='-.',\n",
    "             lw=lw,label='ROC curve (area = %0.3f)' % roc_auc) ###假正率为横坐标，真正率为纵坐标做曲线\n",
    "    plt.plot([0, 1], [0, 1], color='blue', lw=lw, linestyle='--')\n",
    "    plt.xlim([-0.01, 1.0])\n",
    "    plt.ylim([0.0, 1.05])\n",
    "    plt.xlabel('False Positive Rate')\n",
    "    plt.ylabel('True Positive Rate')\n",
    "    plt.title('AUC')\n",
    "    plt.legend(loc=\"lower right\")\n",
    "    print('ROC curve (area = %0.3f)' % roc_auc)"
   ]
  },
  {
   "cell_type": "code",
   "execution_count": 10,
   "metadata": {},
   "outputs": [
    {
     "name": "stdout",
     "output_type": "stream",
     "text": [
      "ROC curve (area = 0.914)\n"
     ]
    },
    {
     "data": {
      "text/plain": [
       "<Figure size 432x288 with 0 Axes>"
      ]
     },
     "metadata": {},
     "output_type": "display_data"
    },
    {
     "data": {
      "image/png": "[encoded data removed]",
      "text/plain": [
       "<Figure size 720x720 with 1 Axes>"
      ]
     },
     "metadata": {
      "needs_background": "light"
     },
     "output_type": "display_data"
    }
   ],
   "source": [
    "auc_curve(df['label'],df['prediction'])"
   ]
  },
  {
   "cell_type": "code",
   "execution_count": 11,
   "metadata": {},
   "outputs": [],
   "source": [
    "def auc_curve2(y,prob,prob2):\n",
    "#y真实prob预测\n",
    "    fpr,tpr,threshold = roc_curve(y,prob) ###计算真阳性率和假阳性率\n",
    "    roc_auc = auc(fpr,tpr) ###计算auc的值\n",
    "    fpr2,tpr2,threshold2 = roc_curve(y,prob2) ###计算真阳性率和假阳性率\n",
    "    roc_auc2 = auc(fpr2,tpr2) ###计算auc的值 \n",
    "    \n",
    "    plt.figure()\n",
    "    lw = 2\n",
    "    plt.figure(figsize=(10,10))\n",
    "    plt.plot(fpr, tpr, color='darkorange',linestyle='-.',\n",
    "             lw=lw,label='ROC curve (area = %0.3f)' % roc_auc) ###假正率为横坐标，真正率为纵坐标做曲线\n",
    "    plt.plot(fpr2, tpr2, color='red',linestyle='dotted',\n",
    "             lw=lw,label='ROC curve (area = %0.3f)' % roc_auc2) ###假正率为横坐标，真正率为纵坐标做曲线\n",
    "\n",
    "    plt.plot([0, 1], [0, 1], color='blue', lw=lw, linestyle='--')\n",
    "    plt.xlim([-0.01, 1.0])\n",
    "    plt.ylim([0.0, 1.05])\n",
    "    plt.xlabel('False Positive Rate')\n",
    "    plt.ylabel('True Positive Rate')\n",
    "    plt.title('AUC')\n",
    "    plt.legend(loc=\"lower right\")\n",
    "    print('ROC curve (area = %0.3f)' % roc_auc)\n",
    "    plt.text(0,1.01,'model_B')\n",
    "    plt.text(0.1,0.9,'model_A')\n",
    "    plt.show()\n"
   ]
  },
  {
   "cell_type": "code",
   "execution_count": 12,
   "metadata": {},
   "outputs": [
    {
     "name": "stdout",
     "output_type": "stream",
     "text": [
      "ROC curve (area = 0.914)\n"
     ]
    },
    {
     "data": {
      "text/plain": [
       "<Figure size 432x288 with 0 Axes>"
      ]
     },
     "metadata": {},
     "output_type": "display_data"
    },
    {
     "data": {
      "image/png": "[encoded data removed]",
      "text/plain": [
       "<Figure size 720x720 with 1 Axes>"
      ]
     },
     "metadata": {
      "needs_background": "light"
     },
     "output_type": "display_data"
    }
   ],
   "source": [
    "auc_curve2(df['label'],df['prediction'],df['prediction2'])\n",
    "# auc_curve(df['label'],df['prediction2'])"
   ]
  },
  {
   "cell_type": "markdown",
   "metadata": {},
   "source": [
    "# 4.2.4 KS指标"
   ]
  },
  {
   "cell_type": "code",
   "execution_count": 13,
   "metadata": {},
   "outputs": [
    {
     "name": "stdout",
     "output_type": "stream",
     "text": [
      "ks_value is 0.78 at pop = 0.61\n"
     ]
    },
    {
     "name": "stderr",
     "output_type": "stream",
     "text": [
      "C:\\Users\\ASUS\\Anaconda3\\lib\\site-packages\\ipykernel_launcher.py:25: SettingWithCopyWarning: \n",
      "A value is trying to be set on a copy of a slice from a DataFrame.\n",
      "Try using .loc[row_indexer,col_indexer] = value instead\n",
      "\n",
      "See the caveats in the documentation: http://pandas.pydata.org/pandas-docs/stable/user_guide/indexing.html#returning-a-view-versus-a-copy\n",
      "C:\\Users\\ASUS\\Anaconda3\\lib\\site-packages\\ipykernel_launcher.py:26: SettingWithCopyWarning: \n",
      "A value is trying to be set on a copy of a slice from a DataFrame.\n",
      "Try using .loc[row_indexer,col_indexer] = value instead\n",
      "\n",
      "See the caveats in the documentation: http://pandas.pydata.org/pandas-docs/stable/user_guide/indexing.html#returning-a-view-versus-a-copy\n"
     ]
    },
    {
     "data": {
      "image/png": "[encoded data removed]",
      "text/plain": [
       "<Figure size 432x288 with 1 Axes>"
      ]
     },
     "metadata": {
      "needs_background": "light"
     },
     "output_type": "display_data"
    }
   ],
   "source": [
    "def PlotKS(preds, labels, n, asc):\n",
    "    pred = preds  # 预测值\n",
    "    bad = labels  # 取1为bad, 0为good\n",
    "    ksds = pd.DataFrame({'bad': bad, 'pred': pred})\n",
    "    ksds['good'] = 1 - ksds.bad\n",
    "\n",
    "    if asc == 1:\n",
    "        ksds1 = ksds.sort_values(by=['pred', 'bad'], ascending=[True, True])\n",
    "    elif asc == 0:\n",
    "        ksds1 = ksds.sort_values(by=['pred', 'bad'], ascending=[False, True])\n",
    "    ksds1.index = range(len(ksds1.pred))\n",
    "    ksds1['cumsum_good1'] = 1.0*ksds1.good.cumsum()/sum(ksds1.good)\n",
    "    ksds1['cumsum_bad1'] = 1.0*ksds1.bad.cumsum()/sum(ksds1.bad)\n",
    "\n",
    "    if asc == 1:\n",
    "        ksds2 = ksds.sort_values(by=['pred', 'bad'], ascending=[True, False])\n",
    "    elif asc == 0:\n",
    "        ksds2 = ksds.sort_values(by=['pred', 'bad'], ascending=[False, False])\n",
    "    ksds2.index = range(len(ksds2.pred))\n",
    "    ksds2['cumsum_good2'] = 1.0*ksds2.good.cumsum()/sum(ksds2.good)\n",
    "    ksds2['cumsum_bad2'] = 1.0*ksds2.bad.cumsum()/sum(ksds2.bad)\n",
    "\n",
    "    # ksds1 ksds2 -> average\n",
    "    ksds = ksds1[['cumsum_good1', 'cumsum_bad1']]\n",
    "    ksds['cumsum_good2'] = ksds2['cumsum_good2']\n",
    "    ksds['cumsum_bad2'] = ksds2['cumsum_bad2']\n",
    "    ksds['cumsum_good'] = (ksds['cumsum_good1'] + ksds['cumsum_good2'])/2\n",
    "    ksds['cumsum_bad'] = (ksds['cumsum_bad1'] + ksds['cumsum_bad2'])/2\n",
    "\n",
    "    # ks\n",
    "    ksds['ks'] = ksds['cumsum_bad'] - ksds['cumsum_good']\n",
    "    ksds['tile0'] = range(1, len(ksds.ks) + 1)\n",
    "    ksds['tile'] = 1.0*ksds['tile0']/len(ksds['tile0'])\n",
    "\n",
    "    qe = list(np.arange(0, 1, 1.0/n))\n",
    "    qe.append(1)\n",
    "    qe = qe[1:]\n",
    "\n",
    "    ks_index = pd.Series(ksds.index)\n",
    "    ks_index = ks_index.quantile(q=qe)\n",
    "    ks_index = np.ceil(ks_index).astype(int)\n",
    "    ks_index = list(ks_index)\n",
    "\n",
    "    ksds = ksds.loc[ks_index]\n",
    "    ksds = ksds[['tile', 'cumsum_good', 'cumsum_bad', 'ks']]\n",
    "    ksds0 = np.array([[0, 0, 0, 0]])\n",
    "    ksds = np.concatenate([ksds0, ksds], axis=0)\n",
    "    ksds = pd.DataFrame(\n",
    "        ksds, columns=['tile', 'cumsum_good', 'cumsum_bad', 'ks'])\n",
    "\n",
    "    ks_value = ksds.ks.max()\n",
    "    ks_pop = ksds.tile[ksds.ks.idxmax()]\n",
    "    print('ks_value is ' + str(np.round(ks_value, 4)) +\n",
    "          ' at pop = ' + str(np.round(ks_pop, 4)))\n",
    "    df_ks_max = ksds[ksds['ks'] ==ks_value ]\n",
    "    x_point = [df_ks_max['tile'].values[0], df_ks_max['tile'].values[0]]\n",
    "    y_point = [df_ks_max['cumsum_bad'].values[0], df_ks_max['cumsum_good'].values[0]]\n",
    "    # chart\n",
    "    plt.plot(ksds.tile, ksds.cumsum_good, label='TPR',\n",
    "             color='blue', linestyle='-', linewidth=2)\n",
    "    \n",
    "    plt.plot(ksds.tile, ksds.cumsum_bad, label='FPR',\n",
    "             color='red', linestyle='-', linewidth=2)\n",
    "\n",
    "    plt.plot(ksds.tile, ksds.ks, label='ks',\n",
    "             color='green', linestyle='-', linewidth=2)\n",
    "    plt.plot(x_point, y_point, label='ks - {:.2f}'.format(\n",
    "        ks_value), color='black', marker='o', markerfacecolor='r', markersize=5)\n",
    "    plt.text(0.5,1,'TPR')\n",
    "    plt.text(0.55,0.7,'KS')\n",
    "    plt.text(0.5,0.12,'FPR')\n",
    "    plt.title('KS=%s ' % np.round(ks_value, 4) +\n",
    "              'at Pop=%s' % np.round(ks_pop, 4), fontsize=15)\n",
    "    plt.show()\n",
    "\n",
    "    return ksds\n",
    "df_tb = PlotKS(df['prediction'],df['label'],n= 20,asc = 0)"
   ]
  },
  {
   "cell_type": "code",
   "execution_count": 14,
   "metadata": {},
   "outputs": [
    {
     "name": "stderr",
     "output_type": "stream",
     "text": [
      "C:\\Users\\ASUS\\Anaconda3\\lib\\site-packages\\ipykernel_launcher.py:25: SettingWithCopyWarning: \n",
      "A value is trying to be set on a copy of a slice from a DataFrame.\n",
      "Try using .loc[row_indexer,col_indexer] = value instead\n",
      "\n",
      "See the caveats in the documentation: http://pandas.pydata.org/pandas-docs/stable/user_guide/indexing.html#returning-a-view-versus-a-copy\n",
      "C:\\Users\\ASUS\\Anaconda3\\lib\\site-packages\\ipykernel_launcher.py:26: SettingWithCopyWarning: \n",
      "A value is trying to be set on a copy of a slice from a DataFrame.\n",
      "Try using .loc[row_indexer,col_indexer] = value instead\n",
      "\n",
      "See the caveats in the documentation: http://pandas.pydata.org/pandas-docs/stable/user_guide/indexing.html#returning-a-view-versus-a-copy\n"
     ]
    },
    {
     "name": "stdout",
     "output_type": "stream",
     "text": [
      "ks_value is 0.78 at pop = 0.61\n"
     ]
    },
    {
     "data": {
      "image/png": "[encoded data removed]",
      "text/plain": [
       "<Figure size 432x288 with 1 Axes>"
      ]
     },
     "metadata": {
      "needs_background": "light"
     },
     "output_type": "display_data"
    }
   ],
   "source": [
    "df_tb = PlotKS(df['prediction'],df['label'],n= 20,asc = 0)\n"
   ]
  },
  {
   "cell_type": "code",
   "execution_count": 15,
   "metadata": {},
   "outputs": [
    {
     "data": {
      "text/html": [
       "<div>\n",
       "<style scoped>\n",
       "    .dataframe tbody tr th:only-of-type {\n",
       "        vertical-align: middle;\n",
       "    }\n",
       "\n",
       "    .dataframe tbody tr th {\n",
       "        vertical-align: top;\n",
       "    }\n",
       "\n",
       "    .dataframe thead th {\n",
       "        text-align: right;\n",
       "    }\n",
       "</style>\n",
       "<table border=\"1\" class=\"dataframe\">\n",
       "  <thead>\n",
       "    <tr style=\"text-align: right;\">\n",
       "      <th></th>\n",
       "      <th>tile</th>\n",
       "      <th>cumsum_good</th>\n",
       "      <th>cumsum_bad</th>\n",
       "      <th>ks</th>\n",
       "    </tr>\n",
       "  </thead>\n",
       "  <tbody>\n",
       "    <tr>\n",
       "      <td>0</td>\n",
       "      <td>0.00</td>\n",
       "      <td>0.00</td>\n",
       "      <td>0.00</td>\n",
       "      <td>0.00</td>\n",
       "    </tr>\n",
       "    <tr>\n",
       "      <td>1</td>\n",
       "      <td>0.06</td>\n",
       "      <td>0.00</td>\n",
       "      <td>0.12</td>\n",
       "      <td>0.12</td>\n",
       "    </tr>\n",
       "    <tr>\n",
       "      <td>2</td>\n",
       "      <td>0.11</td>\n",
       "      <td>0.00</td>\n",
       "      <td>0.22</td>\n",
       "      <td>0.22</td>\n",
       "    </tr>\n",
       "    <tr>\n",
       "      <td>3</td>\n",
       "      <td>0.16</td>\n",
       "      <td>0.06</td>\n",
       "      <td>0.26</td>\n",
       "      <td>0.20</td>\n",
       "    </tr>\n",
       "    <tr>\n",
       "      <td>4</td>\n",
       "      <td>0.21</td>\n",
       "      <td>0.08</td>\n",
       "      <td>0.34</td>\n",
       "      <td>0.26</td>\n",
       "    </tr>\n",
       "  </tbody>\n",
       "</table>\n",
       "</div>"
      ],
      "text/plain": [
       "   tile  cumsum_good  cumsum_bad    ks\n",
       "0  0.00         0.00        0.00  0.00\n",
       "1  0.06         0.00        0.12  0.12\n",
       "2  0.11         0.00        0.22  0.22\n",
       "3  0.16         0.06        0.26  0.20\n",
       "4  0.21         0.08        0.34  0.26"
      ]
     },
     "execution_count": 15,
     "metadata": {},
     "output_type": "execute_result"
    }
   ],
   "source": [
    "df_tb.head()"
   ]
  },
  {
   "cell_type": "markdown",
   "metadata": {},
   "source": [
    "# 4.2.5 Lift提升度"
   ]
  },
  {
   "cell_type": "code",
   "execution_count": 16,
   "metadata": {},
   "outputs": [],
   "source": [
    "def plotLift(pred, bad, n, asc):\n",
    "    lftds = pd.DataFrame({'bad': bad, 'pred': pred})\n",
    "    lftds['good'] = 1 - lftds.bad\n",
    "\n",
    "    if asc == 1:\n",
    "        lftds1 = lftds.sort_values(by=['pred', 'bad'], ascending=[True, True])\n",
    "    elif asc == 0:\n",
    "        lftds1 = lftds.sort_values(by=['pred', 'bad'], ascending=[False, True])\n",
    "    lftds1.index = range(len(lftds1.pred))\n",
    "    lftds1['cumsum_good'] = 1.0*lftds1.good.cumsum()/sum(lftds1.good)\n",
    "    lftds1['cumsum_bad'] = 1.0*lftds1.bad.cumsum()/sum(lftds1.bad)\n",
    "    \n",
    "\n",
    "\n",
    "    lftds1.index = range(len(lftds1.pred))\n",
    "\n",
    "    qe = list(np.arange(0, 1, 1.0 / n))\n",
    "    qe.append(1)\n",
    "    qe = qe[1:]\n",
    "\n",
    "    lft_index = pd.Series(lftds1.index)\n",
    "    lft_index = lft_index.quantile(q=qe)\n",
    "    lft_index = np.ceil(lft_index).astype(int)\n",
    "    lft_index = list(lft_index)\n",
    "\n",
    "    lift_df = lftds1.loc[lft_index]\n",
    "    lift_df['bad_random']  = 1/n\n",
    "    lift_df['cumsum_bad_random'] = lift_df['bad_random'].cumsum()\n",
    "    lift_df['Lift'] = lift_df['cumsum_bad']/lift_df['cumsum_bad_random']\n",
    "\n",
    "    lift_no = range(1, len(lift_df['Lift']) + 1)\n",
    "\n",
    "    plt.plot(lift_no, lift_df['Lift'], 'bo-', linewidth=2)\n",
    "    plt.axhline(1, color='gray', linestyle='--')\n",
    "    plt.title('Lift', fontsize=15)\n",
    "\n",
    "    lift_df['rank'] = list(range(n))\n",
    "    \n",
    "    return lift_df[['rank','cumsum_good', 'cumsum_bad','cumsum_bad_random', 'Lift']]"
   ]
  },
  {
   "cell_type": "code",
   "execution_count": 17,
   "metadata": {},
   "outputs": [
    {
     "data": {
      "image/png": "[encoded data removed]",
      "text/plain": [
       "<Figure size 432x288 with 1 Axes>"
      ]
     },
     "metadata": {
      "needs_background": "light"
     },
     "output_type": "display_data"
    }
   ],
   "source": [
    "df_tb = plotLift(df['prediction'],df['label'],n= 20,asc = 0)\n",
    "plt.show()"
   ]
  },
  {
   "cell_type": "code",
   "execution_count": 18,
   "metadata": {},
   "outputs": [
    {
     "data": {
      "text/html": [
       "<div>\n",
       "<style scoped>\n",
       "    .dataframe tbody tr th:only-of-type {\n",
       "        vertical-align: middle;\n",
       "    }\n",
       "\n",
       "    .dataframe tbody tr th {\n",
       "        vertical-align: top;\n",
       "    }\n",
       "\n",
       "    .dataframe thead th {\n",
       "        text-align: right;\n",
       "    }\n",
       "</style>\n",
       "<table border=\"1\" class=\"dataframe\">\n",
       "  <thead>\n",
       "    <tr style=\"text-align: right;\">\n",
       "      <th></th>\n",
       "      <th>rank</th>\n",
       "      <th>cumsum_good</th>\n",
       "      <th>cumsum_bad</th>\n",
       "      <th>cumsum_bad_random</th>\n",
       "      <th>Lift</th>\n",
       "    </tr>\n",
       "  </thead>\n",
       "  <tbody>\n",
       "    <tr>\n",
       "      <td>5</td>\n",
       "      <td>0</td>\n",
       "      <td>0.00</td>\n",
       "      <td>0.12</td>\n",
       "      <td>0.05</td>\n",
       "      <td>2.400000</td>\n",
       "    </tr>\n",
       "    <tr>\n",
       "      <td>10</td>\n",
       "      <td>1</td>\n",
       "      <td>0.00</td>\n",
       "      <td>0.22</td>\n",
       "      <td>0.10</td>\n",
       "      <td>2.200000</td>\n",
       "    </tr>\n",
       "    <tr>\n",
       "      <td>15</td>\n",
       "      <td>2</td>\n",
       "      <td>0.06</td>\n",
       "      <td>0.26</td>\n",
       "      <td>0.15</td>\n",
       "      <td>1.733333</td>\n",
       "    </tr>\n",
       "    <tr>\n",
       "      <td>20</td>\n",
       "      <td>3</td>\n",
       "      <td>0.08</td>\n",
       "      <td>0.34</td>\n",
       "      <td>0.20</td>\n",
       "      <td>1.700000</td>\n",
       "    </tr>\n",
       "    <tr>\n",
       "      <td>25</td>\n",
       "      <td>4</td>\n",
       "      <td>0.08</td>\n",
       "      <td>0.44</td>\n",
       "      <td>0.25</td>\n",
       "      <td>1.760000</td>\n",
       "    </tr>\n",
       "  </tbody>\n",
       "</table>\n",
       "</div>"
      ],
      "text/plain": [
       "    rank  cumsum_good  cumsum_bad  cumsum_bad_random      Lift\n",
       "5      0         0.00        0.12               0.05  2.400000\n",
       "10     1         0.00        0.22               0.10  2.200000\n",
       "15     2         0.06        0.26               0.15  1.733333\n",
       "20     3         0.08        0.34               0.20  1.700000\n",
       "25     4         0.08        0.44               0.25  1.760000"
      ]
     },
     "execution_count": 18,
     "metadata": {},
     "output_type": "execute_result"
    }
   ],
   "source": [
    "df_tb.head()"
   ]
  }
 ],
 "metadata": {
  "kernelspec": {
   "display_name": "Python 3",
   "language": "python",
   "name": "python3"
  },
  "language_info": {
   "codemirror_mode": {
    "name": "ipython",
    "version": 3
   },
   "file_extension": ".py",
   "mimetype": "text/x-python",
   "name": "python",
   "nbconvert_exporter": "python",
   "pygments_lexer": "ipython3",
   "version": "3.7.4"
  },
  "toc": {
   "base_numbering": 1,
   "nav_menu": {},
   "number_sections": false,
   "sideBar": true,
   "skip_h1_title": false,
   "title_cell": "4.2 分类模型常用评价指标",
   "title_sidebar": "Contents",
   "toc_cell": true,
   "toc_position": {},
   "toc_section_display": true,
   "toc_window_display": true
  },
  "varInspector": {
   "cols": {
    "lenName": 16,
    "lenType": 16,
    "lenVar": 40
   },
   "kernels_config": {
    "python": {
     "delete_cmd_postfix": "",
     "delete_cmd_prefix": "del ",
     "library": "var_list.py",
     "varRefreshCmd": "print(var_dic_list())"
    },
    "r": {
     "delete_cmd_postfix": ") ",
     "delete_cmd_prefix": "rm(",
     "library": "var_list.r",
     "varRefreshCmd": "cat(var_dic_list()) "
    }
   },
   "types_to_exclude": [
    "module",
    "function",
    "builtin_function_or_method",
    "instance",
    "_Feature"
   ],
   "window_display": false
  }
 },
 "nbformat": 4,
 "nbformat_minor": 2
}
