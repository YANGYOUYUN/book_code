{
 "cells": [
  {
   "cell_type": "markdown",
   "metadata": {
    "toc": true
   },
   "source": [
    "<h1>6.3 XGBoost<span class=\"tocSkip\"></span></h1>\n",
    "<div class=\"toc\"><ul class=\"toc-item\"><li><span><a href=\"#6.3.5-使用Scikit-learn类库实现XGBoost算法实例\" data-toc-modified-id=\"6.3.5-使用Scikit-learn类库实现XGBoost算法实例-1\">6.3.5 使用Scikit-learn类库实现XGBoost算法实例</a></span></li></ul></div>"
   ]
  },
  {
   "cell_type": "markdown",
   "metadata": {},
   "source": [
    "# 6.3.5 使用Scikit-learn类库实现XGBoost算法实例"
   ]
  },
  {
   "cell_type": "code",
   "execution_count": 1,
   "metadata": {},
   "outputs": [],
   "source": [
    "# coding:utf8\n",
    "from sklearn import datasets\n",
    "from sklearn.model_selection import train_test_split\n",
    "from sklearn.metrics import accuracy_score\n",
    "from sklearn.model_selection import GridSearchCV\n",
    "from sklearn.metrics import roc_auc_score\n",
    "import matplotlib.pyplot as plt\n",
    "import pandas as pd\n",
    "import numpy as np\n",
    "import seaborn as sns\n",
    "import warnings\n",
    "import xgboost as xgb\n",
    "\n",
    "warnings.simplefilter('ignore')\n",
    "\n",
    "# 导入数据集\n",
    "iris = datasets.load_iris()\n",
    "iris_feature = iris.data\n",
    "iris_target = iris.target\n",
    "\n",
    "iris_data = pd.DataFrame(iris_feature,columns=iris.feature_names)\n",
    "iris_data['target'] = iris_target\n",
    "\n",
    "\n",
    "# 划分数据集\n",
    "x_train,x_test,y_train,y_test = train_test_split(iris_data.iloc[:,:-1],iris_data.iloc[:,-1:],test_size=0.3,random_state=2019)\n"
   ]
  },
  {
   "cell_type": "code",
   "execution_count": 2,
   "metadata": {},
   "outputs": [
    {
     "name": "stdout",
     "output_type": "stream",
     "text": [
      "最佳参数 {'max_depth': 1, 'n_estimators': 100, 'scale_pos_weight': {0: 1, 1: 10}}\n",
      "--------------------------------------------------------------------------------\n",
      "XGBClassifier(eval_metric='auc', max_depth=1, objective='multi:softprob',\n",
      "              random_state=1, scale_pos_weight={0: 1, 1: 10}, seed=123)\n",
      "\n",
      "\n",
      "auc 0.9576785714285715\n"
     ]
    }
   ],
   "source": [
    "#网格搜索寻找最优参数\n",
    "clf = xgb.XGBClassifier(booster='gbtree')\n",
    "xgb_params={\n",
    "'n_estimators':[100,150],'max_depth':[1,2],'scale_pos_weight':[{0:1,1:10},{0:1,1:100}]                                                    \n",
    "}\n",
    "xgb_grid = GridSearchCV(clf,xgb_params,cv = 3)\n",
    "xgb_grid.fit(x_train,y_train)\n",
    "print('最佳参数',xgb_grid.best_params_)\n",
    "print('-' * 80)\n",
    "\n",
    "n_estimators = xgb_grid.best_params_['n_estimators']\n",
    "max_depth = xgb_grid.best_params_['max_depth']\n",
    "scale_pos_weight = xgb_grid.best_params_['scale_pos_weight']\n",
    "\n",
    "# 最优参数模型\n",
    "xgb_model=xgb.XGBClassifier(booster='gbtree',objective='binary:logistic',learning_rate=0.1,random_state = 1,n_estimators = n_estimators, max_depth = max_depth,subsample = 1,eval_metric = 'auc',colsample_bytree = 1,seed = 123,scale_pos_weight = scale_pos_weight,n_jobs=1)\n",
    "\n",
    "xgb_model.fit(x_train,y_train)\n",
    "print(xgb_model)\n",
    "print('\\n')\n",
    "xgb_pre = xgb_model.predict_proba(x_test)\n",
    "xgb_auc = roc_auc_score(y_test,xgb_pre,multi_class='ovr')\n",
    "print('auc', xgb_auc)"
   ]
  }
 ],
 "metadata": {
  "kernelspec": {
   "display_name": "Python 3",
   "language": "python",
   "name": "python3"
  },
  "language_info": {
   "codemirror_mode": {
    "name": "ipython",
    "version": 3
   },
   "file_extension": ".py",
   "mimetype": "text/x-python",
   "name": "python",
   "nbconvert_exporter": "python",
   "pygments_lexer": "ipython3",
   "version": "3.7.4"
  },
  "toc": {
   "base_numbering": 1,
   "nav_menu": {},
   "number_sections": false,
   "sideBar": true,
   "skip_h1_title": false,
   "title_cell": "6.3 XGBoost",
   "title_sidebar": "Contents",
   "toc_cell": true,
   "toc_position": {
    "height": "calc(100% - 180px)",
    "left": "10px",
    "top": "150px",
    "width": "279.273px"
   },
   "toc_section_display": true,
   "toc_window_display": true
  }
 },
 "nbformat": 4,
 "nbformat_minor": 2
}
