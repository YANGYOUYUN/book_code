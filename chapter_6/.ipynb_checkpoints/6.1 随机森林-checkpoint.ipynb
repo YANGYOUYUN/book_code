{
 "cells": [
  {
   "cell_type": "markdown",
   "metadata": {
    "toc": true
   },
   "source": [
    "<h1>6.1 随机森林<span class=\"tocSkip\"></span></h1>\n",
    "<div class=\"toc\"><ul class=\"toc-item\"><li><span><a href=\"#6.1.5-随机森林模型的实现\" data-toc-modified-id=\"6.1.5-随机森林模型的实现-1\">6.1.5 随机森林模型的实现</a></span></li></ul></div>"
   ]
  },
  {
   "cell_type": "markdown",
   "metadata": {},
   "source": [
    "# 6.1.5 随机森林模型的实现"
   ]
  },
  {
   "cell_type": "code",
   "execution_count": 1,
   "metadata": {},
   "outputs": [],
   "source": [
    "# coding:utf8\n",
    "from sklearn import datasets\n",
    "from sklearn.model_selection import train_test_split\n",
    "from sklearn.metrics import accuracy_score\n",
    "from sklearn.model_selection import GridSearchCV\n",
    "from sklearn.ensemble import RandomForestClassifier\n",
    "from sklearn.metrics import roc_auc_score\n",
    "import matplotlib.pyplot as plt\n",
    "import pandas as pd\n",
    "import numpy as np\n",
    "import seaborn as sns\n",
    "import warnings\n",
    "warnings.simplefilter('ignore')\n",
    "\n",
    "# 导入数据集\n",
    "iris = datasets.load_iris()\n",
    "iris_feature = iris.data\n",
    "iris_target = iris.target\n",
    "\n",
    "iris_data = pd.DataFrame(iris_feature,columns=iris.feature_names)\n",
    "iris_data['target'] = iris_target\n",
    "\n",
    "# # 数据分布\n",
    "# print(iris_data.info())\n",
    "# print('\\n')\n",
    "# print(iris_data['target'].unique())\n",
    "\n",
    "\n",
    "# 特征相关性\n",
    "# iris_data_corr = iris_data.corr()\n",
    "# plt.subplots(figsize=(10,7))\n",
    "# sns.heatmap(iris_data_corr,vmin=1,annot=True,square=True)\n",
    "# # plt.show()\n",
    "\n",
    "# 划分数据集\n",
    "x_train,x_test,y_train,y_test = train_test_split(iris_data.iloc[:,:-1],iris_data.iloc[:,-1:],test_size=0.3,random_state=2019)\n"
   ]
  },
  {
   "cell_type": "code",
   "execution_count": 2,
   "metadata": {},
   "outputs": [
    {
     "name": "stdout",
     "output_type": "stream",
     "text": [
      "随机森林最佳参数: {'class_weight': {0: 1, 1: 400}, 'max_depth': 2, 'max_features': 3, 'n_estimators': 10}\n",
      "RandomForestClassifier(class_weight={0: 1, 1: 400}, max_depth=2, max_features=3,\n",
      "                       n_estimators=10, random_state=1)\n",
      "\n",
      "\n",
      "0.9983292282430213\n"
     ]
    }
   ],
   "source": [
    "train_class_weight = 500\n",
    "forest_model = RandomForestClassifier(random_state=1)\n",
    "# 使用网格搜索GridSearchCV寻找最优参数\n",
    "param_grid = [{'n_estimators': [10, 20], 'max_features': [2, 3, 4],\n",
    "               'max_depth':[2, 3, 4], 'class_weight':[{0: 1, 1: (train_class_weight-100)},                                                                    {0: 1, 1: train_class_weight}]}\n",
    "              ]\n",
    "# 网格搜索\n",
    "grid_search = GridSearchCV(forest_model, param_grid, cv=3)\n",
    "grid_search.fit(x_train, y_train)\n",
    "print('随机森林最佳参数:', grid_search.best_params_)\n",
    "\n",
    "final_rf_model = grid_search.best_estimator_\n",
    "print(final_rf_model)\n",
    "print('\\n')\n",
    "rf_predictions = final_rf_model.predict_proba(x_test)\n",
    "rf_auc = roc_auc_score(y_test, rf_predictions, multi_class='ovr')\n",
    "print(rf_auc)"
   ]
  },
  {
   "cell_type": "code",
   "execution_count": null,
   "metadata": {},
   "outputs": [],
   "source": []
  },
  {
   "cell_type": "code",
   "execution_count": null,
   "metadata": {},
   "outputs": [],
   "source": []
  }
 ],
 "metadata": {
  "kernelspec": {
   "display_name": "Python 3",
   "language": "python",
   "name": "python3"
  },
  "language_info": {
   "codemirror_mode": {
    "name": "ipython",
    "version": 3
   },
   "file_extension": ".py",
   "mimetype": "text/x-python",
   "name": "python",
   "nbconvert_exporter": "python",
   "pygments_lexer": "ipython3",
   "version": "3.7.4"
  },
  "toc": {
   "base_numbering": 1,
   "nav_menu": {},
   "number_sections": false,
   "sideBar": true,
   "skip_h1_title": false,
   "title_cell": "6.1 随机森林",
   "title_sidebar": "Contents",
   "toc_cell": true,
   "toc_position": {
    "height": "calc(100% - 180px)",
    "left": "10px",
    "top": "150px",
    "width": "279.273px"
   },
   "toc_section_display": true,
   "toc_window_display": true
  }
 },
 "nbformat": 4,
 "nbformat_minor": 2
}
