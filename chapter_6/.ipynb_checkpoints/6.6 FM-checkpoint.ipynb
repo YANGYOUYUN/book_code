{
 "cells": [
  {
   "cell_type": "markdown",
   "metadata": {
    "toc": true
   },
   "source": [
    "<h1>6.6 FM<span class=\"tocSkip\"></span></h1>\n",
    "<div class=\"toc\"><ul class=\"toc-item\"><li><span><a href=\"#6.6.3-FM的Python实现\" data-toc-modified-id=\"6.6.3-FM的Python实现-1\">6.6.3 FM的Python实现</a></span></li></ul></div>"
   ]
  },
  {
   "cell_type": "markdown",
   "metadata": {},
   "source": [
    "# 6.6.3 FM的Python实现"
   ]
  },
  {
   "cell_type": "code",
   "execution_count": 4,
   "metadata": {},
   "outputs": [],
   "source": [
    "import numpy as np\n",
    "from random import normalvariate\n",
    "# from sklearn_pandas import DataFrameMapper\n",
    "from sklearn.preprocessing import MinMaxScaler as MM\n",
    "import pandas as pd\n",
    "from sklearn.utils import shuffle\n",
    "data = pd.read_csv('../data/diabetes_train.txt',sep=\" \", header=None)\n",
    "# data_test = pd.read_csv('../data/diabetes_test.txt',sep=\" \", header=None)\n",
    "data = shuffle(data)\n",
    "data_train =data.iloc[0:400]\n",
    "data_test=data.iloc[400:]\n",
    "\n",
    "def preprocessing(data_input):\n",
    "    standardopt = MM()\n",
    "    data_input.iloc[:, -1].replace(0, -1, inplace=True)\n",
    "    feature = data_input.iloc[:, :-1]\n",
    "    feature = standardopt.fit_transform(feature)\n",
    "    feature = np.mat(feature)#传回来的是array，如果要dataframe那用dataframe\n",
    "    label = np.array(data_input.iloc[:, -1])\n",
    "    return feature, label\n",
    "\n",
    "\n",
    "def sigmoid(x):\n",
    "    return 1.0/(1.0 + np.exp(-x))\n",
    "\n",
    "\n",
    "def sgd_fm(datamatrix, label, k, iter, alpha):\n",
    "    '''\n",
    "    k：分解矩阵的长度\n",
    "    '''\n",
    "    m, n = np.shape(datamatrix)\n",
    "    w0 = 0.0\n",
    "    w = np.zeros((n, 1))\n",
    "    v = normalvariate(0, 0.2) * np.ones((n, k))\n",
    "    for it in range(iter):\n",
    "        for i in range(m):\n",
    "            inner1 = datamatrix[i] * v\n",
    "            inner2 = np.multiply(datamatrix[i], datamatrix[i]) * np.multiply(v, v)\n",
    "            jiaocha = np.sum((np.multiply(inner1, inner1) - inner2), axis=1) / 2.0\n",
    "            ypredict = w0 + datamatrix[i] * w + jiaocha\n",
    "            yp = sigmoid(label[i]*ypredict[0, 0])\n",
    "            loss = 1 - (-(np.log(yp)))\n",
    "            w0 = w0 - alpha * (yp - 1) * label[i] * 1\n",
    "            for j in range(n):\n",
    "                if datamatrix[i, j] != 0:\n",
    "                    w[j] = w[j] - alpha * (yp - 1) * label[i] * datamatrix[i, j]\n",
    "                    for k in range(k):\n",
    "                        v[j, k] = v[j, k] - alpha * ((yp - 1) * label[i] * \\\n",
    "                                  (datamatrix[i, j] * inner1[0, k] - v[j, k] * \\\n",
    "                                  datamatrix[i, j] * datamatrix[i, j]))\n",
    "    return w0, w, v\n",
    "\n",
    "\n",
    "def predict(w0, w, v, x, thold):\n",
    "    inner1 = x * v\n",
    "    inner2 = np.multiply(x, x) * np.multiply(v, v)\n",
    "    jiaocha = np.sum((np.multiply(inner1, inner1) - inner2), axis=1) / 2.0\n",
    "    ypredict = w0 + x * w + jiaocha\n",
    "    y0 = sigmoid(ypredict[0,0])\n",
    "    if y0 > thold:\n",
    "        yp = 1\n",
    "    else:\n",
    "        yp = -1\n",
    "    return yp\n",
    "\n",
    "\n",
    "def calaccuracy(datamatrix, label, w0, w, v, thold):\n",
    "    error = 0\n",
    "    for i in range(np.shape(datamatrix)[0]):\n",
    "        yp = predict(w0, w, v, datamatrix[i], thold)\n",
    "        if yp != label[i]:\n",
    "            error += 1\n",
    "    accuray = 1.0 - error/np.shape(datamatrix)[0]\n",
    "    return accuray\n",
    "\n",
    "datamattrain, labeltrain = preprocessing(data_train)\n",
    "datamattest, labeltest = preprocessing(data_test)\n",
    "datamattest\n",
    "w0, w, v = sgd_fm(datamattrain, labeltrain, 20, 300, 0.01)\n",
    "maxaccuracy = 0.0\n",
    "tmpthold = 0.0\n"
   ]
  },
  {
   "cell_type": "code",
   "execution_count": 5,
   "metadata": {},
   "outputs": [
    {
     "name": "stdout",
     "output_type": "stream",
     "text": [
      "0.75 0.4\n"
     ]
    }
   ],
   "source": [
    "for i in np.linspace(0.4, 0.6, 201):\n",
    "    accuracy_test = calaccuracy(datamattest, labeltest, w0, w, v, i)\n",
    "    if accuracy_test > maxaccuracy:\n",
    "        maxaccuracy = accuracy_test\n",
    "        tmpthold = i\n",
    "print(accuracy_test, tmpthold)"
   ]
  },
  {
   "cell_type": "code",
   "execution_count": null,
   "metadata": {},
   "outputs": [],
   "source": []
  }
 ],
 "metadata": {
  "kernelspec": {
   "display_name": "Python 3",
   "language": "python",
   "name": "python3"
  },
  "language_info": {
   "codemirror_mode": {
    "name": "ipython",
    "version": 3
   },
   "file_extension": ".py",
   "mimetype": "text/x-python",
   "name": "python",
   "nbconvert_exporter": "python",
   "pygments_lexer": "ipython3",
   "version": "3.7.4"
  },
  "toc": {
   "base_numbering": 1,
   "nav_menu": {},
   "number_sections": false,
   "sideBar": true,
   "skip_h1_title": false,
   "title_cell": "6.6 FM",
   "title_sidebar": "Contents",
   "toc_cell": true,
   "toc_position": {},
   "toc_section_display": true,
   "toc_window_display": true
  }
 },
 "nbformat": 4,
 "nbformat_minor": 2
}
