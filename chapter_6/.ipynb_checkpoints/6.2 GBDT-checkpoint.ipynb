{
 "cells": [
  {
   "cell_type": "markdown",
   "metadata": {
    "toc": true
   },
   "source": [
    "<h1>6.2 GBDT<span class=\"tocSkip\"></span></h1>\n",
    "<div class=\"toc\"><ul class=\"toc-item\"><li><span><a href=\"#6.2.4-使用Scikit-learn类库实现GBDT算法实例\" data-toc-modified-id=\"6.2.4-使用Scikit-learn类库实现GBDT算法实例-1\">6.2.4 使用Scikit-learn类库实现GBDT算法实例</a></span></li></ul></div>"
   ]
  },
  {
   "cell_type": "markdown",
   "metadata": {},
   "source": [
    "# 6.2.4 使用Scikit-learn类库实现GBDT算法实例"
   ]
  },
  {
   "cell_type": "code",
   "execution_count": 1,
   "metadata": {},
   "outputs": [],
   "source": [
    "# coding:utf8\n",
    "from sklearn import datasets\n",
    "from sklearn.model_selection import train_test_split\n",
    "from sklearn.metrics import accuracy_score\n",
    "from sklearn.model_selection import GridSearchCV\n",
    "from sklearn.metrics import roc_auc_score\n",
    "import matplotlib.pyplot as plt\n",
    "import pandas as pd\n",
    "import numpy as np\n",
    "import seaborn as sns\n",
    "import warnings\n",
    "warnings.simplefilter('ignore')\n",
    "\n",
    "# 导入数据集\n",
    "iris = datasets.load_iris()\n",
    "iris_feature = iris.data\n",
    "iris_target = iris.target\n",
    "\n",
    "iris_data = pd.DataFrame(iris_feature,columns=iris.feature_names)\n",
    "iris_data['target'] = iris_target\n",
    "\n",
    "\n",
    "# 划分数据集\n",
    "x_train,x_test,y_train,y_test = train_test_split(iris_data.iloc[:,:-1],iris_data.iloc[:,-1:],test_size=0.3,random_state=2019)\n"
   ]
  },
  {
   "cell_type": "code",
   "execution_count": 2,
   "metadata": {},
   "outputs": [],
   "source": [
    "from sklearn.preprocessing import OneHotEncoder\n",
    "from sklearn.ensemble import GradientBoostingClassifier\n",
    " \n",
    "gbdt_model=GradientBoostingClassifier(n_estimators=50,random_state=10,subsample=0.6, max_depth=7,min_samples_split=900)\n",
    "gbdt_model.fit(x_train, y_train)\n",
    "train_new_feature = gbdt_model.apply(x_train)\n",
    "train_new_feature = train_new_feature.reshape(-1, 50)\n",
    "enc = OneHotEncoder()\n",
    "enc.fit(train_new_feature)\n",
    " \n",
    "train_new_feature2 = np.array(enc.transform(train_new_feature).toarray())"
   ]
  }
 ],
 "metadata": {
  "kernelspec": {
   "display_name": "Python 3",
   "language": "python",
   "name": "python3"
  },
  "language_info": {
   "codemirror_mode": {
    "name": "ipython",
    "version": 3
   },
   "file_extension": ".py",
   "mimetype": "text/x-python",
   "name": "python",
   "nbconvert_exporter": "python",
   "pygments_lexer": "ipython3",
   "version": "3.7.4"
  },
  "toc": {
   "base_numbering": 1,
   "nav_menu": {},
   "number_sections": false,
   "sideBar": true,
   "skip_h1_title": false,
   "title_cell": "6.2 GBDT",
   "title_sidebar": "Contents",
   "toc_cell": true,
   "toc_position": {},
   "toc_section_display": true,
   "toc_window_display": true
  }
 },
 "nbformat": 4,
 "nbformat_minor": 2
}
