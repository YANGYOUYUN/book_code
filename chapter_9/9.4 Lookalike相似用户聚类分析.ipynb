{
 "cells": [
  {
   "cell_type": "markdown",
   "metadata": {
    "toc": true
   },
   "source": [
    "<h1>9.4 Lookalike相似用户聚类分析<span class=\"tocSkip\"></span></h1>\n",
    "<div class=\"toc\"><ul class=\"toc-item\"></ul></div>"
   ]
  },
  {
   "cell_type": "code",
   "execution_count": 1,
   "metadata": {},
   "outputs": [],
   "source": [
    "import pandas as pd \n",
    "import numpy as np\n",
    "import matplotlib.pyplot as plt\n",
    "from sklearn.linear_model import LinearRegression\n",
    "from sklearn.metrics import r2_score\n",
    "import warnings\n",
    "warnings.filterwarnings('ignore')"
   ]
  },
  {
   "cell_type": "code",
   "execution_count": 2,
   "metadata": {},
   "outputs": [],
   "source": [
    "df1 = pd.read_csv('../data/chapter_9.4.csv')"
   ]
  },
  {
   "cell_type": "code",
   "execution_count": 3,
   "metadata": {},
   "outputs": [],
   "source": [
    "df2 = pd.read_csv('../data/chapter_9.4(2).csv')"
   ]
  },
  {
   "cell_type": "code",
   "execution_count": 4,
   "metadata": {},
   "outputs": [],
   "source": [
    "classify_list = df1['classify'].unique()\n",
    "feature_var = list(df2.ix[:,1:].columns)\n",
    "product_list = df2['product_id'].unique()\n",
    "# print(product_list)"
   ]
  },
  {
   "cell_type": "code",
   "execution_count": 5,
   "metadata": {},
   "outputs": [
    {
     "name": "stdout",
     "output_type": "stream",
     "text": [
      "2 A4 0.007803080930921756\n",
      "2 A11 0.007615027249709849\n",
      "2 A15 0.012105922701401468\n",
      "2 A50 0.006743631685493809\n",
      "2 A80 0.012105922701401468\n",
      "2 A130 0.014084507042253521\n",
      "2 A300 0.010832288681278756\n",
      "2 A28 0.006683045912094926\n",
      "2 A480 0.012105922701401468\n",
      "0 A4 0.006618848608922454\n",
      "0 A11 0.005167467872226176\n",
      "0 A15 0.01028285408886167\n",
      "0 A50 0.005720186371992872\n",
      "0 A80 0.01028285408886167\n",
      "0 A130 0.006683045912094926\n",
      "0 A300 0.009201020583513417\n",
      "0 A28 0.014084507042253521\n",
      "0 A480 0.01028285408886167\n",
      "1 A4 0.010999329309188463\n",
      "1 A11 0.01073424627522196\n",
      "1 A15 0.01408450704225352\n",
      "1 A50 0.009505915202632905\n",
      "1 A80 0.01408450704225352\n",
      "1 A130 0.012105922701401468\n",
      "1 A300 0.012602711084346463\n",
      "1 A28 0.01028285408886167\n",
      "1 A480 0.01408450704225352\n",
      "3 A4 0.009842117227775333\n",
      "3 A11 0.0110690879999067\n",
      "3 A15 0.012602711084346463\n",
      "3 A50 0.011669572187103606\n",
      "3 A80 0.012602711084346463\n",
      "3 A130 0.010832288681278756\n",
      "3 A300 0.014084507042253525\n",
      "3 A28 0.009201020583513417\n",
      "3 A480 0.012602711084346463\n",
      "\n",
      "\n",
      "第0类最相似产品:A28,平均距离:0.014085\n",
      "第1类最相似产品:A15,平均距离:0.014085\n",
      "第2类最相似产品:A130,平均距离:0.014085\n",
      "第3类最相似产品:A300,平均距离:0.014085\n"
     ]
    }
   ],
   "source": [
    "def distance_cos(inA, inB):\n",
    "    import math\n",
    "    n = len(inA)\n",
    "    weight=[9,8,4,10,6,5,5,4,4,3,3,3,2,3,2] #权重\n",
    "    inA = [inA[i]*weight[i] for i in range(n)]\n",
    "    inB = [inB[i]*weight[i] for i in range(n)]\n",
    "    sumAB =sum([inA[i]*inB[i] for i in range(n)])\n",
    "    sqA = math.sqrt(sum([inA[i]**2 for i in range(n)]))\n",
    "    sqB = math.sqrt(sum([inB[i]**2 for i in range(n)]))\n",
    "    if sqA*sqB ==0:\n",
    "        return 0\n",
    "    p = float(sumAB/(sqA*sqB))/sum(weight)\n",
    "    return p\n",
    "\n",
    "\n",
    "# 通过余弦距离计算相似性\n",
    "data=pd.DataFrame()\n",
    "simliar = []\n",
    "product = []\n",
    "classify=[]\n",
    "for i in classify_list:\n",
    "    x = df1[df1['classify'] == i][feature_var]  # 种子用户产品\n",
    "    for j in product_list:\n",
    "        y = df2[df2['product_id'] == j][feature_var]  # 待挖掘产品的相似人群\n",
    "        for n in range(0, len(x)):\n",
    "            for m in range(0, len(y)):\n",
    "                distance = []\n",
    "                a = x.iloc[n, :]\n",
    "                b = y.iloc[m, :]\n",
    "                d = distance_cos(a, b)\n",
    "                distance.append(d)\n",
    "        mean_distance = np.mean(distance)\n",
    "        simliar.append(mean_distance)\n",
    "        product.append(j) \n",
    "        classify.append(i)\n",
    "        print(i,j, mean_distance)  # 余弦值与两个向量夹角负相关，余弦值越大，夹角越小，越相似\n",
    "data['classify'] = classify\n",
    "data['product'] = product\n",
    "data['simliar'] = simliar\n",
    "# print(classify,product, simliar)\n",
    "print('\\n')\n",
    "\n",
    "\n",
    "for i in range(4):\n",
    "    simliar_list=data[data['classify']==i].sort_values(by=['simliar'], ascending=False)[:1][['product', 'simliar']]#找出每一类最相似的产品人群\n",
    "    id=simliar_list['product']\n",
    "    distance=simliar_list['simliar']\n",
    "    print('第%d类最相似产品:%s,平均距离:%f'%(i,id.values[0],distance))"
   ]
  },
  {
   "cell_type": "code",
   "execution_count": null,
   "metadata": {},
   "outputs": [],
   "source": []
  }
 ],
 "metadata": {
  "kernelspec": {
   "display_name": "Python 3",
   "language": "python",
   "name": "python3"
  },
  "language_info": {
   "codemirror_mode": {
    "name": "ipython",
    "version": 3
   },
   "file_extension": ".py",
   "mimetype": "text/x-python",
   "name": "python",
   "nbconvert_exporter": "python",
   "pygments_lexer": "ipython3",
   "version": "3.7.4"
  },
  "toc": {
   "base_numbering": 1,
   "nav_menu": {},
   "number_sections": false,
   "sideBar": true,
   "skip_h1_title": false,
   "title_cell": "9.4 Lookalike相似用户聚类分析",
   "title_sidebar": "Contents",
   "toc_cell": true,
   "toc_position": {},
   "toc_section_display": true,
   "toc_window_display": true
  }
 },
 "nbformat": 4,
 "nbformat_minor": 2
}
