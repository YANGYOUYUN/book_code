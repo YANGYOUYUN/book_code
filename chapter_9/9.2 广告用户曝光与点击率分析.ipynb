{
 "cells": [
  {
   "cell_type": "markdown",
   "metadata": {
    "toc": true
   },
   "source": [
    "<h1>9.2 广告用户曝光与点击率分析<span class=\"tocSkip\"></span></h1>\n",
    "<div class=\"toc\"><ul class=\"toc-item\"></ul></div>"
   ]
  },
  {
   "cell_type": "code",
   "execution_count": 1,
   "metadata": {},
   "outputs": [],
   "source": [
    "import pandas as pd \n",
    "import numpy as np\n",
    "import matplotlib.pyplot as plt\n",
    "from sklearn.linear_model import LinearRegression\n",
    "from sklearn.metrics import r2_score"
   ]
  },
  {
   "cell_type": "code",
   "execution_count": 2,
   "metadata": {},
   "outputs": [],
   "source": [
    "df1 = pd.read_csv('../data/chapter_9.2.csv')"
   ]
  },
  {
   "cell_type": "code",
   "execution_count": 3,
   "metadata": {},
   "outputs": [
    {
     "data": {
      "image/png": "[encoded data removed]",
      "text/plain": [
       "<Figure size 720x576 with 1 Axes>"
      ]
     },
     "metadata": {
      "needs_background": "light"
     },
     "output_type": "display_data"
    }
   ],
   "source": [
    "#显示曝光次数与用户点击衰退率关系\n",
    "plt.figure(figsize=(10,8))\n",
    "plt.rcParams['font.sans-serif']=['SimHei']\n",
    "plt.scatter(df1['expo_times'],df1['avg_click_rate'],color='r')\n",
    "plt.title('expo_times&click dacey ',fontsize=16)\n",
    "plt.xlabel('expo_times',fontsize=12)\n",
    "plt.ylabel('click dacey',fontsize=12)\n",
    "plt.xlim(0,30)\n",
    "plt.ylim(0,1)\n",
    "plt.show()"
   ]
  },
  {
   "cell_type": "code",
   "execution_count": 4,
   "metadata": {},
   "outputs": [
    {
     "name": "stdout",
     "output_type": "stream",
     "text": [
      "0.8044803645545668\n"
     ]
    }
   ],
   "source": [
    "num_sample = 30\n",
    "#构建关系模型\n",
    "df1.sort_values(by='expo_times',inplace=True)\n",
    "if df1.shape[0] <num_sample:\n",
    "    print('product {} number of sample is {} ,too  few'.format(j,df1.shape[0]))\n",
    "X=df1['expo_times']\n",
    "y=df1['avg_click_rate']\n",
    "lr=LinearRegression()\n",
    "X = X.values.reshape(-1,1)\n",
    "lr.fit(X,y)\n",
    "y_pred=lr.predict(X)\n",
    "r2=r2_score(y,y_pred)\n",
    "print(r2)"
   ]
  }
 ],
 "metadata": {
  "kernelspec": {
   "display_name": "Python 3",
   "language": "python",
   "name": "python3"
  },
  "language_info": {
   "codemirror_mode": {
    "name": "ipython",
    "version": 3
   },
   "file_extension": ".py",
   "mimetype": "text/x-python",
   "name": "python",
   "nbconvert_exporter": "python",
   "pygments_lexer": "ipython3",
   "version": "3.7.4"
  },
  "toc": {
   "base_numbering": 1,
   "nav_menu": {},
   "number_sections": false,
   "sideBar": true,
   "skip_h1_title": false,
   "title_cell": "9.2 广告用户曝光与点击率分析",
   "title_sidebar": "Contents",
   "toc_cell": true,
   "toc_position": {},
   "toc_section_display": true,
   "toc_window_display": true
  }
 },
 "nbformat": 4,
 "nbformat_minor": 2
}
